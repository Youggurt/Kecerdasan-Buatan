{
 "cells": [
  {
   "cell_type": "code",
   "execution_count": null,
   "id": "a1050ead-f360-4ef9-9ad7-0d5b234992f6",
   "metadata": {},
   "outputs": [],
   "source": [
    "#nyoba buat kalender ceritanya"
   ]
  },
  {
   "cell_type": "code",
   "execution_count": 2,
   "id": "323785c7-a5d8-4de1-b71c-5fceda4a96a5",
   "metadata": {},
   "outputs": [
    {
     "name": "stdin",
     "output_type": "stream",
     "text": [
      "Enter Year: 2025\n"
     ]
    },
    {
     "name": "stdout",
     "output_type": "stream",
     "text": [
      "                                    2025\n",
      "\n",
      "      January                     February                     March\n",
      "Mo Tu We Th Fr Sa Su        Mo Tu We Th Fr Sa Su        Mo Tu We Th Fr Sa Su\n",
      "       1  2  3  4  5                        1  2                        1  2\n",
      " 6  7  8  9 10 11 12         3  4  5  6  7  8  9         3  4  5  6  7  8  9\n",
      "13 14 15 16 17 18 19        10 11 12 13 14 15 16        10 11 12 13 14 15 16\n",
      "20 21 22 23 24 25 26        17 18 19 20 21 22 23        17 18 19 20 21 22 23\n",
      "27 28 29 30 31              24 25 26 27 28              24 25 26 27 28 29 30\n",
      "                                                        31\n",
      "\n",
      "       April                        May                         June\n",
      "Mo Tu We Th Fr Sa Su        Mo Tu We Th Fr Sa Su        Mo Tu We Th Fr Sa Su\n",
      "    1  2  3  4  5  6                  1  2  3  4                           1\n",
      " 7  8  9 10 11 12 13         5  6  7  8  9 10 11         2  3  4  5  6  7  8\n",
      "14 15 16 17 18 19 20        12 13 14 15 16 17 18         9 10 11 12 13 14 15\n",
      "21 22 23 24 25 26 27        19 20 21 22 23 24 25        16 17 18 19 20 21 22\n",
      "28 29 30                    26 27 28 29 30 31           23 24 25 26 27 28 29\n",
      "                                                        30\n",
      "\n",
      "        July                       August                    September\n",
      "Mo Tu We Th Fr Sa Su        Mo Tu We Th Fr Sa Su        Mo Tu We Th Fr Sa Su\n",
      "    1  2  3  4  5  6                     1  2  3         1  2  3  4  5  6  7\n",
      " 7  8  9 10 11 12 13         4  5  6  7  8  9 10         8  9 10 11 12 13 14\n",
      "14 15 16 17 18 19 20        11 12 13 14 15 16 17        15 16 17 18 19 20 21\n",
      "21 22 23 24 25 26 27        18 19 20 21 22 23 24        22 23 24 25 26 27 28\n",
      "28 29 30 31                 25 26 27 28 29 30 31        29 30\n",
      "\n",
      "      October                     November                    December\n",
      "Mo Tu We Th Fr Sa Su        Mo Tu We Th Fr Sa Su        Mo Tu We Th Fr Sa Su\n",
      "       1  2  3  4  5                        1  2         1  2  3  4  5  6  7\n",
      " 6  7  8  9 10 11 12         3  4  5  6  7  8  9         8  9 10 11 12 13 14\n",
      "13 14 15 16 17 18 19        10 11 12 13 14 15 16        15 16 17 18 19 20 21\n",
      "20 21 22 23 24 25 26        17 18 19 20 21 22 23        22 23 24 25 26 27 28\n",
      "27 28 29 30 31              24 25 26 27 28 29 30        29 30 31\n",
      "\n"
     ]
    }
   ],
   "source": [
    "from calendar import TextCalendar\n",
    "year = int(input('Enter Year:'))\n",
    "cal = TextCalendar()\n",
    "print (cal.formatyear(year, 2, 1, 8, 3))"
   ]
  },
  {
   "cell_type": "code",
   "execution_count": null,
   "id": "b101d774-49f7-4ae1-ac1f-9f3c3901d872",
   "metadata": {},
   "outputs": [],
   "source": []
  }
 ],
 "metadata": {
  "kernelspec": {
   "display_name": "Python 3 (ipykernel)",
   "language": "python",
   "name": "python3"
  },
  "language_info": {
   "codemirror_mode": {
    "name": "ipython",
    "version": 3
   },
   "file_extension": ".py",
   "mimetype": "text/x-python",
   "name": "python",
   "nbconvert_exporter": "python",
   "pygments_lexer": "ipython3",
   "version": "3.12.6"
  }
 },
 "nbformat": 4,
 "nbformat_minor": 5
}
